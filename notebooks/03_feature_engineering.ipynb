{
 "cells": [
  {
   "cell_type": "code",
   "execution_count": 1,
   "id": "dc3fa7e6",
   "metadata": {},
   "outputs": [
    {
     "data": {
      "text/html": [
       "\n",
       "            <div>\n",
       "                <ins><a href=\"https://ydata.ai/register\">Upgrade to ydata-sdk</a></ins>\n",
       "                <p>\n",
       "                    Improve your data and profiling with ydata-sdk, featuring data quality scoring, redundancy detection, outlier identification, text validation, and synthetic data generation.\n",
       "                </p>\n",
       "            </div>\n",
       "            "
      ],
      "text/plain": [
       "<IPython.core.display.HTML object>"
      ]
     },
     "metadata": {},
     "output_type": "display_data"
    }
   ],
   "source": [
    "import pandas as pd\n",
    "from sklearn.preprocessing import LabelEncoder ,StandardScaler\n",
    "import joblib\n",
    "from pathlib import Path\n",
    "from ydata_profiling import ProfileReport\n",
    "import os"
   ]
  },
  {
   "cell_type": "code",
   "execution_count": 2,
   "id": "4f8ae7d2",
   "metadata": {},
   "outputs": [
    {
     "data": {
      "text/html": [
       "<div>\n",
       "<style scoped>\n",
       "    .dataframe tbody tr th:only-of-type {\n",
       "        vertical-align: middle;\n",
       "    }\n",
       "\n",
       "    .dataframe tbody tr th {\n",
       "        vertical-align: top;\n",
       "    }\n",
       "\n",
       "    .dataframe thead th {\n",
       "        text-align: right;\n",
       "    }\n",
       "</style>\n",
       "<table border=\"1\" class=\"dataframe\">\n",
       "  <thead>\n",
       "    <tr style=\"text-align: right;\">\n",
       "      <th></th>\n",
       "      <th>id</th>\n",
       "      <th>Gender</th>\n",
       "      <th>Age</th>\n",
       "      <th>Driving_License</th>\n",
       "      <th>Region_Code</th>\n",
       "      <th>Previously_Insured</th>\n",
       "      <th>Vehicle_Age</th>\n",
       "      <th>Vehicle_Damage</th>\n",
       "      <th>Annual_Premium</th>\n",
       "      <th>Policy_Sales_Channel</th>\n",
       "      <th>Vintage</th>\n",
       "      <th>Response</th>\n",
       "    </tr>\n",
       "  </thead>\n",
       "  <tbody>\n",
       "    <tr>\n",
       "      <th>0</th>\n",
       "      <td>1</td>\n",
       "      <td>Male</td>\n",
       "      <td>44</td>\n",
       "      <td>1</td>\n",
       "      <td>28</td>\n",
       "      <td>0</td>\n",
       "      <td>&gt; 2 Years</td>\n",
       "      <td>Yes</td>\n",
       "      <td>40454</td>\n",
       "      <td>26</td>\n",
       "      <td>217</td>\n",
       "      <td>1</td>\n",
       "    </tr>\n",
       "    <tr>\n",
       "      <th>1</th>\n",
       "      <td>2</td>\n",
       "      <td>Male</td>\n",
       "      <td>76</td>\n",
       "      <td>1</td>\n",
       "      <td>3</td>\n",
       "      <td>0</td>\n",
       "      <td>1-2 Year</td>\n",
       "      <td>No</td>\n",
       "      <td>33536</td>\n",
       "      <td>26</td>\n",
       "      <td>183</td>\n",
       "      <td>0</td>\n",
       "    </tr>\n",
       "    <tr>\n",
       "      <th>2</th>\n",
       "      <td>3</td>\n",
       "      <td>Male</td>\n",
       "      <td>47</td>\n",
       "      <td>1</td>\n",
       "      <td>28</td>\n",
       "      <td>0</td>\n",
       "      <td>&gt; 2 Years</td>\n",
       "      <td>Yes</td>\n",
       "      <td>38294</td>\n",
       "      <td>26</td>\n",
       "      <td>27</td>\n",
       "      <td>1</td>\n",
       "    </tr>\n",
       "    <tr>\n",
       "      <th>3</th>\n",
       "      <td>4</td>\n",
       "      <td>Male</td>\n",
       "      <td>21</td>\n",
       "      <td>1</td>\n",
       "      <td>11</td>\n",
       "      <td>1</td>\n",
       "      <td>&lt; 1 Year</td>\n",
       "      <td>No</td>\n",
       "      <td>28619</td>\n",
       "      <td>152</td>\n",
       "      <td>203</td>\n",
       "      <td>0</td>\n",
       "    </tr>\n",
       "    <tr>\n",
       "      <th>4</th>\n",
       "      <td>5</td>\n",
       "      <td>Female</td>\n",
       "      <td>29</td>\n",
       "      <td>1</td>\n",
       "      <td>41</td>\n",
       "      <td>1</td>\n",
       "      <td>&lt; 1 Year</td>\n",
       "      <td>No</td>\n",
       "      <td>27496</td>\n",
       "      <td>152</td>\n",
       "      <td>39</td>\n",
       "      <td>0</td>\n",
       "    </tr>\n",
       "  </tbody>\n",
       "</table>\n",
       "</div>"
      ],
      "text/plain": [
       "   id  Gender  Age  Driving_License  Region_Code  Previously_Insured  \\\n",
       "0   1    Male   44                1           28                   0   \n",
       "1   2    Male   76                1            3                   0   \n",
       "2   3    Male   47                1           28                   0   \n",
       "3   4    Male   21                1           11                   1   \n",
       "4   5  Female   29                1           41                   1   \n",
       "\n",
       "  Vehicle_Age Vehicle_Damage  Annual_Premium  Policy_Sales_Channel  Vintage  \\\n",
       "0   > 2 Years            Yes           40454                    26      217   \n",
       "1    1-2 Year             No           33536                    26      183   \n",
       "2   > 2 Years            Yes           38294                    26       27   \n",
       "3    < 1 Year             No           28619                   152      203   \n",
       "4    < 1 Year             No           27496                   152       39   \n",
       "\n",
       "   Response  \n",
       "0         1  \n",
       "1         0  \n",
       "2         1  \n",
       "3         0  \n",
       "4         0  "
      ]
     },
     "execution_count": 2,
     "metadata": {},
     "output_type": "execute_result"
    }
   ],
   "source": [
    "df = pd.read_csv(\"../data/processed/cleaned_v1.csv\")\n",
    "df1 = pd.read_csv(\"../data/processed/test_v1.csv\")\n",
    "df.head()"
   ]
  },
  {
   "cell_type": "code",
   "execution_count": 3,
   "id": "52eff994",
   "metadata": {},
   "outputs": [],
   "source": [
    "#Cleaning column names\n",
    "df.columns = df.columns.str.strip().str.replace(' ', '_').str.lower()\n",
    "df1.columns = df1.columns.str.strip().str.replace(' ', '_').str.lower()"
   ]
  },
  {
   "cell_type": "code",
   "execution_count": 4,
   "id": "454bf3b3",
   "metadata": {},
   "outputs": [
    {
     "name": "stdout",
     "output_type": "stream",
     "text": [
      "<class 'pandas.core.frame.DataFrame'>\n",
      "RangeIndex: 369800 entries, 0 to 369799\n",
      "Data columns (total 12 columns):\n",
      " #   Column                Non-Null Count   Dtype \n",
      "---  ------                --------------   ----- \n",
      " 0   id                    369800 non-null  int64 \n",
      " 1   gender                369800 non-null  object\n",
      " 2   age                   369800 non-null  int64 \n",
      " 3   driving_license       369800 non-null  int64 \n",
      " 4   region_code           369800 non-null  int64 \n",
      " 5   previously_insured    369800 non-null  int64 \n",
      " 6   vehicle_age           369800 non-null  object\n",
      " 7   vehicle_damage        369800 non-null  object\n",
      " 8   annual_premium        369800 non-null  int64 \n",
      " 9   policy_sales_channel  369800 non-null  int64 \n",
      " 10  vintage               369800 non-null  int64 \n",
      " 11  response              369800 non-null  int64 \n",
      "dtypes: int64(9), object(3)\n",
      "memory usage: 33.9+ MB\n"
     ]
    }
   ],
   "source": [
    "df.info()"
   ]
  },
  {
   "cell_type": "code",
   "execution_count": 5,
   "id": "7e2c2e4d",
   "metadata": {},
   "outputs": [],
   "source": [
    "#encoding data\n",
    "# #Converting objects to numeric\n",
    "# df['Gender'] = df['Gender'].map({'Male':0, 'Female':1})\n",
    "# df['Vehicle_Damage'] = df['Vehicle_Damage'].map({\"Yes\":1, \"No\":0})\n",
    "\n",
    "# #Converting vehicle age to ordered values\n",
    "# df[\"Vehicle_Age\"] = df[\"Vehicle_Age\"].map({\n",
    "#     '< 1 Year' : 0,\n",
    "#     '1-2 Year':1,\n",
    "#     '> 2 Years':2 \n",
    "# })\n",
    "label_enc_cols = ['gender', 'vehicle_age', 'vehicle_damage']\n",
    "label_encoders = {}\n",
    "\n",
    "for col in label_enc_cols:\n",
    "    le = LabelEncoder()\n",
    "    df[col] = le.fit_transform(df[col])\n",
    "    label_encoders[col] = le\n",
    "    \n",
    "    \n",
    "label_enc_cols = ['gender', 'vehicle_age', 'vehicle_damage']\n",
    "label_encoders = {}\n",
    "\n",
    "for col in label_enc_cols:\n",
    "    le = LabelEncoder()\n",
    "    df1[col] = le.fit_transform(df1[col])\n",
    "    label_encoders[col] = le"
   ]
  },
  {
   "cell_type": "code",
   "execution_count": 6,
   "id": "bc4437b5",
   "metadata": {},
   "outputs": [],
   "source": [
    "# import dtale\n",
    "# import pandas as pd\n",
    "# import os\n",
    "# from pathlib import Path\n",
    "\n",
    "# # Load your dataset\n",
    "# df = pd.read_csv(\"E:/PROJECTS/insurance_fraud_detection/data/raw/train.csv\")\n",
    "\n",
    "# # Start D-Tale and print the URL to access\n",
    "# d = dtale.show(df, name='Insurancedataset', open_browser=True)\n"
   ]
  },
  {
   "cell_type": "code",
   "execution_count": 7,
   "id": "1236c509",
   "metadata": {},
   "outputs": [
    {
     "data": {
      "text/plain": [
       "response\n",
       "0    0.878207\n",
       "1    0.121793\n",
       "Name: proportion, dtype: float64"
      ]
     },
     "execution_count": 7,
     "metadata": {},
     "output_type": "execute_result"
    }
   ],
   "source": [
    "#Checking for class imbalance\n",
    "df[\"response\"].value_counts(normalize=True)"
   ]
  },
  {
   "cell_type": "code",
   "execution_count": 8,
   "id": "411d347e",
   "metadata": {},
   "outputs": [
    {
     "name": "stdout",
     "output_type": "stream",
     "text": [
      "response\n",
      "1    0.5\n",
      "0    0.5\n",
      "Name: proportion, dtype: float64\n"
     ]
    }
   ],
   "source": [
    "#Making class balance\n",
    "from imblearn.over_sampling import SMOTE\n",
    "\n",
    "X = df.drop('response', axis=1)\n",
    "y = df['response']\n",
    "\n",
    "smote = SMOTE(random_state = 42)\n",
    "X_resampled, y_resampled = smote.fit_resample(X,y)\n",
    "\n",
    "print(y_resampled.value_counts(normalize=True))\n",
    "\n",
    "df_resampled = pd.concat([X_resampled, y_resampled], axis = 1)\n",
    "\n",
    "#Data balanced"
   ]
  },
  {
   "cell_type": "code",
   "execution_count": 9,
   "id": "8234799a",
   "metadata": {},
   "outputs": [],
   "source": [
    "df = df_resampled"
   ]
  },
  {
   "cell_type": "code",
   "execution_count": 10,
   "id": "5fce611c",
   "metadata": {},
   "outputs": [],
   "source": [
    "df = df.rename(columns = {\n",
    "    'response' : 'is_fraud',\n",
    "})"
   ]
  },
  {
   "cell_type": "code",
   "execution_count": 11,
   "id": "eb20e072",
   "metadata": {},
   "outputs": [
    {
     "name": "stdout",
     "output_type": "stream",
     "text": [
      "Correlation with target: \n",
      "is_fraud                1.000000\n",
      "vehicle_damage          0.570616\n",
      "age                     0.178639\n",
      "annual_premium          0.026727\n",
      "driving_license         0.005929\n",
      "region_code             0.003042\n",
      "id                     -0.003475\n",
      "vintage                -0.004932\n",
      "gender                 -0.126885\n",
      "policy_sales_channel   -0.216907\n",
      "vehicle_age            -0.342255\n",
      "previously_insured     -0.594456\n",
      "Name: is_fraud, dtype: float64\n"
     ]
    }
   ],
   "source": [
    "#Finding Correlation between them\n",
    "\n",
    "corr_matrix = df.corr()\n",
    "\n",
    "print('Correlation with target: ')\n",
    "print(corr_matrix['is_fraud'].sort_values(ascending=False))"
   ]
  },
  {
   "cell_type": "code",
   "execution_count": 12,
   "id": "238a9ace",
   "metadata": {},
   "outputs": [],
   "source": [
    "#Feature Selection\n",
    "df = df.drop(columns=['id','region_code','vintage','driving_license','annual_premium'])\n",
    "df1 = df1.drop(columns=['id','region_code','vintage','driving_license','annual_premium'])"
   ]
  },
  {
   "cell_type": "code",
   "execution_count": 13,
   "id": "f43aaad7",
   "metadata": {},
   "outputs": [
    {
     "data": {
      "text/html": [
       "<div>\n",
       "<style scoped>\n",
       "    .dataframe tbody tr th:only-of-type {\n",
       "        vertical-align: middle;\n",
       "    }\n",
       "\n",
       "    .dataframe tbody tr th {\n",
       "        vertical-align: top;\n",
       "    }\n",
       "\n",
       "    .dataframe thead th {\n",
       "        text-align: right;\n",
       "    }\n",
       "</style>\n",
       "<table border=\"1\" class=\"dataframe\">\n",
       "  <thead>\n",
       "    <tr style=\"text-align: right;\">\n",
       "      <th></th>\n",
       "      <th>gender</th>\n",
       "      <th>age</th>\n",
       "      <th>previously_insured</th>\n",
       "      <th>vehicle_age</th>\n",
       "      <th>vehicle_damage</th>\n",
       "      <th>policy_sales_channel</th>\n",
       "      <th>is_fraud</th>\n",
       "    </tr>\n",
       "  </thead>\n",
       "  <tbody>\n",
       "    <tr>\n",
       "      <th>0</th>\n",
       "      <td>1</td>\n",
       "      <td>44</td>\n",
       "      <td>0</td>\n",
       "      <td>2</td>\n",
       "      <td>1</td>\n",
       "      <td>26</td>\n",
       "      <td>1</td>\n",
       "    </tr>\n",
       "    <tr>\n",
       "      <th>1</th>\n",
       "      <td>1</td>\n",
       "      <td>76</td>\n",
       "      <td>0</td>\n",
       "      <td>0</td>\n",
       "      <td>0</td>\n",
       "      <td>26</td>\n",
       "      <td>0</td>\n",
       "    </tr>\n",
       "    <tr>\n",
       "      <th>2</th>\n",
       "      <td>1</td>\n",
       "      <td>47</td>\n",
       "      <td>0</td>\n",
       "      <td>2</td>\n",
       "      <td>1</td>\n",
       "      <td>26</td>\n",
       "      <td>1</td>\n",
       "    </tr>\n",
       "    <tr>\n",
       "      <th>3</th>\n",
       "      <td>1</td>\n",
       "      <td>21</td>\n",
       "      <td>1</td>\n",
       "      <td>1</td>\n",
       "      <td>0</td>\n",
       "      <td>152</td>\n",
       "      <td>0</td>\n",
       "    </tr>\n",
       "    <tr>\n",
       "      <th>4</th>\n",
       "      <td>0</td>\n",
       "      <td>29</td>\n",
       "      <td>1</td>\n",
       "      <td>1</td>\n",
       "      <td>0</td>\n",
       "      <td>152</td>\n",
       "      <td>0</td>\n",
       "    </tr>\n",
       "    <tr>\n",
       "      <th>5</th>\n",
       "      <td>0</td>\n",
       "      <td>24</td>\n",
       "      <td>0</td>\n",
       "      <td>1</td>\n",
       "      <td>1</td>\n",
       "      <td>160</td>\n",
       "      <td>0</td>\n",
       "    </tr>\n",
       "    <tr>\n",
       "      <th>6</th>\n",
       "      <td>1</td>\n",
       "      <td>23</td>\n",
       "      <td>0</td>\n",
       "      <td>1</td>\n",
       "      <td>1</td>\n",
       "      <td>152</td>\n",
       "      <td>0</td>\n",
       "    </tr>\n",
       "    <tr>\n",
       "      <th>7</th>\n",
       "      <td>0</td>\n",
       "      <td>56</td>\n",
       "      <td>0</td>\n",
       "      <td>0</td>\n",
       "      <td>1</td>\n",
       "      <td>26</td>\n",
       "      <td>1</td>\n",
       "    </tr>\n",
       "    <tr>\n",
       "      <th>8</th>\n",
       "      <td>0</td>\n",
       "      <td>24</td>\n",
       "      <td>1</td>\n",
       "      <td>1</td>\n",
       "      <td>0</td>\n",
       "      <td>152</td>\n",
       "      <td>0</td>\n",
       "    </tr>\n",
       "    <tr>\n",
       "      <th>9</th>\n",
       "      <td>0</td>\n",
       "      <td>32</td>\n",
       "      <td>1</td>\n",
       "      <td>1</td>\n",
       "      <td>0</td>\n",
       "      <td>152</td>\n",
       "      <td>0</td>\n",
       "    </tr>\n",
       "  </tbody>\n",
       "</table>\n",
       "</div>"
      ],
      "text/plain": [
       "   gender  age  previously_insured  vehicle_age  vehicle_damage  \\\n",
       "0       1   44                   0            2               1   \n",
       "1       1   76                   0            0               0   \n",
       "2       1   47                   0            2               1   \n",
       "3       1   21                   1            1               0   \n",
       "4       0   29                   1            1               0   \n",
       "5       0   24                   0            1               1   \n",
       "6       1   23                   0            1               1   \n",
       "7       0   56                   0            0               1   \n",
       "8       0   24                   1            1               0   \n",
       "9       0   32                   1            1               0   \n",
       "\n",
       "   policy_sales_channel  is_fraud  \n",
       "0                    26         1  \n",
       "1                    26         0  \n",
       "2                    26         1  \n",
       "3                   152         0  \n",
       "4                   152         0  \n",
       "5                   160         0  \n",
       "6                   152         0  \n",
       "7                    26         1  \n",
       "8                   152         0  \n",
       "9                   152         0  "
      ]
     },
     "execution_count": 13,
     "metadata": {},
     "output_type": "execute_result"
    }
   ],
   "source": [
    "df.head(10)"
   ]
  },
  {
   "cell_type": "code",
   "execution_count": 14,
   "id": "9e7b45c5",
   "metadata": {},
   "outputs": [],
   "source": [
    "# from ydata_profiling import ProfileReport\n",
    "# import pandas as pd\n",
    "# import os\n",
    "# from pathlib import Path\n",
    "\n",
    "# # Disable chi-squared threshold (fixes the AttributeError)\n",
    "# from ydata_profiling.config import Settings\n",
    "# config = Settings()\n",
    "# config.vars.num.chi_squared_threshold = 0 \n",
    "\n",
    "# # Create report path\n",
    "# profile_path = os.path.abspath(\"../reports/eda_report.html\")\n",
    "# Path(os.path.dirname(profile_path)).mkdir(parents=True, exist_ok=True)\n",
    "\n",
    "# # Create profiling report\n",
    "# profile = ProfileReport(\n",
    "#     df,\n",
    "#     title=\"Insurance Fraud Detection - EDA Report\",\n",
    "#     explorative=True,\n",
    "#     config=config\n",
    "# )\n",
    "\n",
    "# # Export to file\n",
    "# profile.to_file(profile_path)\n",
    "# print(\"Profiling Completed\")"
   ]
  },
  {
   "cell_type": "code",
   "execution_count": 15,
   "id": "4d188f35",
   "metadata": {},
   "outputs": [
    {
     "name": "stdout",
     "output_type": "stream",
     "text": [
      "<class 'pandas.core.frame.DataFrame'>\n",
      "RangeIndex: 649522 entries, 0 to 649521\n",
      "Data columns (total 7 columns):\n",
      " #   Column                Non-Null Count   Dtype\n",
      "---  ------                --------------   -----\n",
      " 0   gender                649522 non-null  int32\n",
      " 1   age                   649522 non-null  int64\n",
      " 2   previously_insured    649522 non-null  int64\n",
      " 3   vehicle_age           649522 non-null  int32\n",
      " 4   vehicle_damage        649522 non-null  int32\n",
      " 5   policy_sales_channel  649522 non-null  int64\n",
      " 6   is_fraud              649522 non-null  int64\n",
      "dtypes: int32(3), int64(4)\n",
      "memory usage: 27.3 MB\n"
     ]
    }
   ],
   "source": [
    "df.info()"
   ]
  },
  {
   "cell_type": "code",
   "execution_count": 16,
   "id": "b862fa37",
   "metadata": {},
   "outputs": [
    {
     "data": {
      "text/plain": [
       "gender                    2\n",
       "age                      66\n",
       "previously_insured        2\n",
       "vehicle_age               3\n",
       "vehicle_damage            2\n",
       "policy_sales_channel    163\n",
       "is_fraud                  2\n",
       "dtype: int64"
      ]
     },
     "execution_count": 16,
     "metadata": {},
     "output_type": "execute_result"
    }
   ],
   "source": [
    "df.nunique()"
   ]
  },
  {
   "cell_type": "code",
   "execution_count": 17,
   "id": "5600d4f9",
   "metadata": {},
   "outputs": [
    {
     "name": "stdout",
     "output_type": "stream",
     "text": [
      "Model Saved.\n"
     ]
    }
   ],
   "source": [
    "binary_cols = [\"gender\", \"previously_insured\", \"vehicle_age\", \"vehicle_damage\"]\n",
    "target_col = \"is_fraud\"\n",
    "\n",
    "X_num = df.drop(columns=binary_cols + [target_col])\n",
    "X_bin = df[binary_cols]\n",
    "y = df[target_col]\n",
    "\n",
    "scaler = StandardScaler()\n",
    "X_num_scaled = scaler.fit_transform(X_num)\n",
    "X_num_scaled = pd.DataFrame(X_num_scaled, columns=X_num.columns)\n",
    "df_scaled = pd.concat([X_num_scaled, X_bin.reset_index(drop=True), y.reset_index(drop=True)], axis=1)\n",
    "\n",
    "# Save to CSV\n",
    "processed_path = \"../data/labeled\"\n",
    "Path(processed_path).mkdir(parents=True, exist_ok=True)\n",
    "df_scaled.to_csv(f\"{processed_path}/labeled_data.csv\", index=False)\n",
    "model_path = \"../models\"\n",
    "Path(model_path).mkdir(parents=True, exist_ok=True)\n",
    "joblib.dump(scaler, f\"{model_path}/scaler.pkl\")\n",
    "print(\"Model Saved.\")"
   ]
  },
  {
   "cell_type": "code",
   "execution_count": 18,
   "id": "48e37b77",
   "metadata": {},
   "outputs": [
    {
     "name": "stdout",
     "output_type": "stream",
     "text": [
      "Test data transformed and saved.\n"
     ]
    }
   ],
   "source": [
    "# Load test data\n",
    "test_df = df1\n",
    "\n",
    "# Separate numeric and binary columns\n",
    "X_test_num = test_df.drop(columns=binary_cols, errors='ignore')\n",
    "X_test_bin = test_df[binary_cols]\n",
    "\n",
    "# Load saved scaler\n",
    "scaler = joblib.load(\"../models/scaler.pkl\")\n",
    "\n",
    "# Apply same transformation\n",
    "X_test_num_scaled = scaler.transform(X_test_num)\n",
    "X_test_num_scaled = pd.DataFrame(X_test_num_scaled, columns=X_test_num.columns)\n",
    "\n",
    "# Combine\n",
    "X_test_final = pd.concat([X_test_num_scaled, X_test_bin.reset_index(drop=True)], axis=1)\n",
    "\n",
    "# Save final test features\n",
    "X_test_final.to_csv(\"../data/labeled/labeled_test_data.csv\", index=False)\n",
    "print(\"Test data transformed and saved.\")\n"
   ]
  }
 ],
 "metadata": {
  "kernelspec": {
   "display_name": "Python 3",
   "language": "python",
   "name": "python3"
  },
  "language_info": {
   "codemirror_mode": {
    "name": "ipython",
    "version": 3
   },
   "file_extension": ".py",
   "mimetype": "text/x-python",
   "name": "python",
   "nbconvert_exporter": "python",
   "pygments_lexer": "ipython3",
   "version": "3.12.10"
  }
 },
 "nbformat": 4,
 "nbformat_minor": 5
}
