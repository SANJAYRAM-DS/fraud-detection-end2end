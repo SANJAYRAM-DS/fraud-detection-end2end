{
 "cells": [
  {
   "cell_type": "code",
   "execution_count": 1,
   "id": "ce115317",
   "metadata": {},
   "outputs": [
    {
     "data": {
      "text/html": [
       "\n",
       "            <div>\n",
       "                <ins><a href=\"https://ydata.ai/register\">Upgrade to ydata-sdk</a></ins>\n",
       "                <p>\n",
       "                    Improve your data and profiling with ydata-sdk, featuring data quality scoring, redundancy detection, outlier identification, text validation, and synthetic data generation.\n",
       "                </p>\n",
       "            </div>\n",
       "            "
      ],
      "text/plain": [
       "<IPython.core.display.HTML object>"
      ]
     },
     "metadata": {},
     "output_type": "display_data"
    }
   ],
   "source": [
    "import pandas as pd\n",
    "from ydata_profiling import ProfileReport\n",
    "import os\n",
    "from pathlib import Path\n",
    "import seaborn as sns\n",
    "import matplotlib.pyplot as plt"
   ]
  },
  {
   "cell_type": "code",
   "execution_count": 3,
   "id": "38fa2a59",
   "metadata": {},
   "outputs": [
    {
     "data": {
      "text/html": [
       "<div>\n",
       "<style scoped>\n",
       "    .dataframe tbody tr th:only-of-type {\n",
       "        vertical-align: middle;\n",
       "    }\n",
       "\n",
       "    .dataframe tbody tr th {\n",
       "        vertical-align: top;\n",
       "    }\n",
       "\n",
       "    .dataframe thead th {\n",
       "        text-align: right;\n",
       "    }\n",
       "</style>\n",
       "<table border=\"1\" class=\"dataframe\">\n",
       "  <thead>\n",
       "    <tr style=\"text-align: right;\">\n",
       "      <th></th>\n",
       "      <th>id</th>\n",
       "      <th>Gender</th>\n",
       "      <th>Age</th>\n",
       "      <th>Driving_License</th>\n",
       "      <th>Region_Code</th>\n",
       "      <th>Previously_Insured</th>\n",
       "      <th>Vehicle_Age</th>\n",
       "      <th>Vehicle_Damage</th>\n",
       "      <th>Annual_Premium</th>\n",
       "      <th>Policy_Sales_Channel</th>\n",
       "      <th>Vintage</th>\n",
       "      <th>Response</th>\n",
       "    </tr>\n",
       "  </thead>\n",
       "  <tbody>\n",
       "    <tr>\n",
       "      <th>0</th>\n",
       "      <td>1</td>\n",
       "      <td>Male</td>\n",
       "      <td>44</td>\n",
       "      <td>1</td>\n",
       "      <td>28.0</td>\n",
       "      <td>0</td>\n",
       "      <td>&gt; 2 Years</td>\n",
       "      <td>Yes</td>\n",
       "      <td>40454.0</td>\n",
       "      <td>26.0</td>\n",
       "      <td>217</td>\n",
       "      <td>1</td>\n",
       "    </tr>\n",
       "    <tr>\n",
       "      <th>1</th>\n",
       "      <td>2</td>\n",
       "      <td>Male</td>\n",
       "      <td>76</td>\n",
       "      <td>1</td>\n",
       "      <td>3.0</td>\n",
       "      <td>0</td>\n",
       "      <td>1-2 Year</td>\n",
       "      <td>No</td>\n",
       "      <td>33536.0</td>\n",
       "      <td>26.0</td>\n",
       "      <td>183</td>\n",
       "      <td>0</td>\n",
       "    </tr>\n",
       "    <tr>\n",
       "      <th>2</th>\n",
       "      <td>3</td>\n",
       "      <td>Male</td>\n",
       "      <td>47</td>\n",
       "      <td>1</td>\n",
       "      <td>28.0</td>\n",
       "      <td>0</td>\n",
       "      <td>&gt; 2 Years</td>\n",
       "      <td>Yes</td>\n",
       "      <td>38294.0</td>\n",
       "      <td>26.0</td>\n",
       "      <td>27</td>\n",
       "      <td>1</td>\n",
       "    </tr>\n",
       "    <tr>\n",
       "      <th>3</th>\n",
       "      <td>4</td>\n",
       "      <td>Male</td>\n",
       "      <td>21</td>\n",
       "      <td>1</td>\n",
       "      <td>11.0</td>\n",
       "      <td>1</td>\n",
       "      <td>&lt; 1 Year</td>\n",
       "      <td>No</td>\n",
       "      <td>28619.0</td>\n",
       "      <td>152.0</td>\n",
       "      <td>203</td>\n",
       "      <td>0</td>\n",
       "    </tr>\n",
       "    <tr>\n",
       "      <th>4</th>\n",
       "      <td>5</td>\n",
       "      <td>Female</td>\n",
       "      <td>29</td>\n",
       "      <td>1</td>\n",
       "      <td>41.0</td>\n",
       "      <td>1</td>\n",
       "      <td>&lt; 1 Year</td>\n",
       "      <td>No</td>\n",
       "      <td>27496.0</td>\n",
       "      <td>152.0</td>\n",
       "      <td>39</td>\n",
       "      <td>0</td>\n",
       "    </tr>\n",
       "  </tbody>\n",
       "</table>\n",
       "</div>"
      ],
      "text/plain": [
       "   id  Gender  Age  Driving_License  Region_Code  Previously_Insured  \\\n",
       "0   1    Male   44                1         28.0                   0   \n",
       "1   2    Male   76                1          3.0                   0   \n",
       "2   3    Male   47                1         28.0                   0   \n",
       "3   4    Male   21                1         11.0                   1   \n",
       "4   5  Female   29                1         41.0                   1   \n",
       "\n",
       "  Vehicle_Age Vehicle_Damage  Annual_Premium  Policy_Sales_Channel  Vintage  \\\n",
       "0   > 2 Years            Yes         40454.0                  26.0      217   \n",
       "1    1-2 Year             No         33536.0                  26.0      183   \n",
       "2   > 2 Years            Yes         38294.0                  26.0       27   \n",
       "3    < 1 Year             No         28619.0                 152.0      203   \n",
       "4    < 1 Year             No         27496.0                 152.0       39   \n",
       "\n",
       "   Response  \n",
       "0         1  \n",
       "1         0  \n",
       "2         1  \n",
       "3         0  \n",
       "4         0  "
      ]
     },
     "execution_count": 3,
     "metadata": {},
     "output_type": "execute_result"
    }
   ],
   "source": [
    "df = pd.read_csv(\"../data/raw/train.csv\")\n",
    "df1 = pd.read_csv(\"../data/raw/test.csv\")\n",
    "df.head()"
   ]
  },
  {
   "cell_type": "code",
   "execution_count": 4,
   "id": "026f9d3b",
   "metadata": {},
   "outputs": [
    {
     "name": "stdout",
     "output_type": "stream",
     "text": [
      "Shape (381109, 12)\n",
      "\n",
      "Data Types\n",
      " id                        int64\n",
      "Gender                   object\n",
      "Age                       int64\n",
      "Driving_License           int64\n",
      "Region_Code             float64\n",
      "Previously_Insured        int64\n",
      "Vehicle_Age              object\n",
      "Vehicle_Damage           object\n",
      "Annual_Premium          float64\n",
      "Policy_Sales_Channel    float64\n",
      "Vintage                   int64\n",
      "Response                  int64\n",
      "dtype: object\n",
      "\n",
      "IsNullPresent\n",
      " id                      0\n",
      "Gender                  0\n",
      "Age                     0\n",
      "Driving_License         0\n",
      "Region_Code             0\n",
      "Previously_Insured      0\n",
      "Vehicle_Age             0\n",
      "Vehicle_Damage          0\n",
      "Annual_Premium          0\n",
      "Policy_Sales_Channel    0\n",
      "Vintage                 0\n",
      "Response                0\n",
      "dtype: int64\n",
      "\n",
      "Check Duplicates\n",
      " 0\n",
      "\n",
      "Describ\n",
      "                    id  Gender            Age  Driving_License    Region_Code  \\\n",
      "count   381109.000000  381109  381109.000000    381109.000000  381109.000000   \n",
      "unique            NaN       2            NaN              NaN            NaN   \n",
      "top               NaN    Male            NaN              NaN            NaN   \n",
      "freq              NaN  206089            NaN              NaN            NaN   \n",
      "mean    190555.000000     NaN      38.822584         0.997869      26.388807   \n",
      "std     110016.836208     NaN      15.511611         0.046110      13.229888   \n",
      "min          1.000000     NaN      20.000000         0.000000       0.000000   \n",
      "25%      95278.000000     NaN      25.000000         1.000000      15.000000   \n",
      "50%     190555.000000     NaN      36.000000         1.000000      28.000000   \n",
      "75%     285832.000000     NaN      49.000000         1.000000      35.000000   \n",
      "max     381109.000000     NaN      85.000000         1.000000      52.000000   \n",
      "\n",
      "        Previously_Insured Vehicle_Age Vehicle_Damage  Annual_Premium  \\\n",
      "count        381109.000000      381109         381109   381109.000000   \n",
      "unique                 NaN           3              2             NaN   \n",
      "top                    NaN    1-2 Year            Yes             NaN   \n",
      "freq                   NaN      200316         192413             NaN   \n",
      "mean              0.458210         NaN            NaN    30564.389581   \n",
      "std               0.498251         NaN            NaN    17213.155057   \n",
      "min               0.000000         NaN            NaN     2630.000000   \n",
      "25%               0.000000         NaN            NaN    24405.000000   \n",
      "50%               0.000000         NaN            NaN    31669.000000   \n",
      "75%               1.000000         NaN            NaN    39400.000000   \n",
      "max               1.000000         NaN            NaN   540165.000000   \n",
      "\n",
      "        Policy_Sales_Channel        Vintage       Response  \n",
      "count          381109.000000  381109.000000  381109.000000  \n",
      "unique                   NaN            NaN            NaN  \n",
      "top                      NaN            NaN            NaN  \n",
      "freq                     NaN            NaN            NaN  \n",
      "mean              112.034295     154.347397       0.122563  \n",
      "std                54.203995      83.671304       0.327936  \n",
      "min                 1.000000      10.000000       0.000000  \n",
      "25%                29.000000      82.000000       0.000000  \n",
      "50%               133.000000     154.000000       0.000000  \n",
      "75%               152.000000     227.000000       0.000000  \n",
      "max               163.000000     299.000000       1.000000  \n"
     ]
    },
    {
     "data": {
      "text/plain": [
       "Response                1.000000\n",
       "Age                     0.111147\n",
       "Annual_Premium          0.022575\n",
       "Region_Code             0.010570\n",
       "Driving_License         0.010155\n",
       "Vintage                -0.001050\n",
       "id                     -0.001368\n",
       "Policy_Sales_Channel   -0.139042\n",
       "Previously_Insured     -0.341170\n",
       "Name: Response, dtype: float64"
      ]
     },
     "execution_count": 4,
     "metadata": {},
     "output_type": "execute_result"
    }
   ],
   "source": [
    "print(\"Shape\",df.shape)\n",
    "print(\"\\nData Types\\n\",df.dtypes)\n",
    "print(\"\\nIsNullPresent\\n\",df.isnull().sum())\n",
    "print(\"\\nCheck Duplicates\\n\",df.duplicated().sum())\n",
    "print(\"\\nDescrib\\n\",df.describe(include='all'))\n",
    "\n",
    "#checking correlation\n",
    "df.corr(numeric_only=True)['Response'].sort_values(ascending=False)"
   ]
  },
  {
   "cell_type": "code",
   "execution_count": 4,
   "id": "340d955c",
   "metadata": {},
   "outputs": [
    {
     "data": {
      "image/png": "[encoded data removed]",
      "text/plain": [
       "<Figure size 640x480 with 1 Axes>"
      ]
     },
     "metadata": {},
     "output_type": "display_data"
    },
    {
     "data": {
      "image/png": "[encoded data removed]",
      "text/plain": [
       "<Figure size 600x200 with 9 Axes>"
      ]
     },
     "metadata": {},
     "output_type": "display_data"
    }
   ],
   "source": [
    "sns.countplot(x='Response', data=df)\n",
    "\n",
    "df.hist(figsize=(6,2))\n",
    "plt.tight_layout()"
   ]
  },
  {
   "cell_type": "code",
   "execution_count": 5,
   "id": "7cfad344",
   "metadata": {},
   "outputs": [],
   "source": [
    "#Check for missing values - No missing values\n",
    "# df.isnull().sum()\n",
    "#Check for duplicates - No Duplicates\n",
    "# df.duplicated().sum()"
   ]
  },
  {
   "cell_type": "code",
   "execution_count": null,
   "id": "e0c218f9",
   "metadata": {},
   "outputs": [],
   "source": [
    "#Fixing data types\n",
    "# df.info()\n",
    "df['Region_Code'] = df['Region_Code'].astype('Int64')\n",
    "df['Annual_Premium'] = df['Annual_Premium'].astype('Int64')\n",
    "df['Policy_Sales_Channel'] = df['Policy_Sales_Channel'].astype('Int64')\n",
    "#df.info()\n",
    "\n",
    "df1['Region_Code'] = df1['Region_Code'].astype('Int64')\n",
    "df1['Annual_Premium'] = df1['Annual_Premium'].astype('Int64')\n",
    "df1['Policy_Sales_Channel'] = df1['Policy_Sales_Channel'].astype('Int64')"
   ]
  },
  {
   "cell_type": "code",
   "execution_count": 7,
   "id": "0960ca00",
   "metadata": {},
   "outputs": [
    {
     "data": {
      "text/plain": [
       "id                      381109\n",
       "Gender                       2\n",
       "Age                         66\n",
       "Driving_License              2\n",
       "Region_Code                 53\n",
       "Previously_Insured           2\n",
       "Vehicle_Age                  3\n",
       "Vehicle_Damage               2\n",
       "Annual_Premium           48838\n",
       "Policy_Sales_Channel       155\n",
       "Vintage                    290\n",
       "Response                     2\n",
       "dtype: int64"
      ]
     },
     "execution_count": 7,
     "metadata": {},
     "output_type": "execute_result"
    }
   ],
   "source": [
    "df.nunique()"
   ]
  },
  {
   "cell_type": "code",
   "execution_count": 8,
   "id": "55968c42",
   "metadata": {},
   "outputs": [
    {
     "name": "stdout",
     "output_type": "stream",
     "text": [
      "Cleaned rows: 370789\n"
     ]
    },
    {
     "data": {
      "text/plain": [
       "(370789, 12)"
      ]
     },
     "execution_count": 8,
     "metadata": {},
     "output_type": "execute_result"
    }
   ],
   "source": [
    "#Handiling Outliers\n",
    "num_cols = [\"Age\", \"Region_Code\", \"Annual_Premium\", \"Policy_Sales_Channel\", \"Vintage\"]\n",
    "\n",
    "def remove_outliers_iqr(data, columns):\n",
    "    for col in columns:\n",
    "        Q1 = data[col].quantile(0.25)\n",
    "        Q3 = data[col].quantile(0.75)\n",
    "        IQR = Q3 - Q1\n",
    "        lower_bound = Q1 - 1.5 * IQR\n",
    "        upper_bound = Q3 + 1.5 * IQR\n",
    "        data = data[(data[col]>=lower_bound) & (data[col]<=upper_bound)]\n",
    "    return data\n",
    "\n",
    "df = remove_outliers_iqr(df, num_cols)\n",
    "df1 = remove_outliers_iqr(df1, num_cols)\n",
    "\n",
    "print(f\"Cleaned rows: {df.shape[0]}\")\n",
    "df.shape"
   ]
  },
  {
   "cell_type": "code",
   "execution_count": 9,
   "id": "fff300d9",
   "metadata": {},
   "outputs": [
    {
     "name": "stdout",
     "output_type": "stream",
     "text": [
      "<class 'pandas.core.frame.DataFrame'>\n",
      "Index: 370789 entries, 0 to 381108\n",
      "Data columns (total 12 columns):\n",
      " #   Column                Non-Null Count   Dtype \n",
      "---  ------                --------------   ----- \n",
      " 0   id                    370789 non-null  int64 \n",
      " 1   Gender                370789 non-null  object\n",
      " 2   Age                   370789 non-null  int64 \n",
      " 3   Driving_License       370789 non-null  int64 \n",
      " 4   Region_Code           370789 non-null  Int64 \n",
      " 5   Previously_Insured    370789 non-null  int64 \n",
      " 6   Vehicle_Age           370789 non-null  object\n",
      " 7   Vehicle_Damage        370789 non-null  object\n",
      " 8   Annual_Premium        370789 non-null  Int64 \n",
      " 9   Policy_Sales_Channel  370789 non-null  Int64 \n",
      " 10  Vintage               370789 non-null  int64 \n",
      " 11  Response              370789 non-null  int64 \n",
      "dtypes: Int64(3), int64(6), object(3)\n",
      "memory usage: 37.8+ MB\n"
     ]
    }
   ],
   "source": [
    "df.info()"
   ]
  },
  {
   "cell_type": "code",
   "execution_count": 10,
   "id": "61093a8c",
   "metadata": {},
   "outputs": [
    {
     "name": "stdout",
     "output_type": "stream",
     "text": [
      "Cleaned data shape: (369800, 12)\n"
     ]
    }
   ],
   "source": [
    "#Logical Consistency check\n",
    "\n",
    "# Removing impossible Age values\n",
    "df = df[(df['Age'] >= 0) & (df['Age'] < 120)]\n",
    "# Removing entries where Annual_Premium is zero or unrealistically high (>1 lakh)\n",
    "df = df[(df['Annual_Premium'] > 1000) & (df['Annual_Premium'] < 100000)]\n",
    "# Removing entries with invalid Vintage (usually time since policy, should be >0 and <500)\n",
    "df = df[(df['Vintage'] > 0) & (df['Vintage'] < 500)]\n",
    "# Ensuring Region_Code is within a valid range\n",
    "valid_region_codes = df['Region_Code'].value_counts().index  # or define a static list\n",
    "df = df[df['Region_Code'].isin(valid_region_codes)]\n",
    "# Removing entries with unknown Gender (if such exist)\n",
    "df = df[df['Gender'].isin(['Male', 'Female'])]\n",
    "# Removing entries where Driving_License has invalid values (only 0 or 1)\n",
    "df = df[df['Driving_License'].isin([0, 1])]\n",
    "# Removing entries where Previously_Insured has invalid values\n",
    "df = df[df['Previously_Insured'].isin([0, 1])]\n",
    "# Vehicle_Age: keep only expected values\n",
    "df = df[df['Vehicle_Age'].isin(['< 1 Year', '1-2 Year', '> 2 Years'])]\n",
    "# Vehicle_Damage: must be 'Yes' or 'No'\n",
    "df = df[df['Vehicle_Damage'].isin(['Yes', 'No'])]\n",
    "# Policy_Sales_Channel: optionally filter rare channels if needed\n",
    "valid_channels = df['Policy_Sales_Channel'].value_counts()[df['Policy_Sales_Channel'].value_counts() > 50].index\n",
    "df = df[df['Policy_Sales_Channel'].isin(valid_channels)]\n",
    "\n",
    "# Response: should be 0 or 1\n",
    "df = df[df['Response'].isin([0, 1])]\n",
    "\n",
    "print(f\"Cleaned data shape: {df.shape}\")"
   ]
  },
  {
   "cell_type": "code",
   "execution_count": 12,
   "id": "989983da",
   "metadata": {},
   "outputs": [
    {
     "name": "stdout",
     "output_type": "stream",
     "text": [
      "Cleaned data shape: (122557, 11)\n"
     ]
    }
   ],
   "source": [
    "#Logical Consistency check\n",
    "#TEST\n",
    "# Removing impossible Age values\n",
    "df1 = df1[(df1['Age'] >= 0) & (df1['Age'] < 120)]\n",
    "# Removing entries where Annual_Premium is zero or unrealistically high (>1 lakh)\n",
    "df1 = df1[(df1['Annual_Premium'] > 1000) & (df1['Annual_Premium'] < 100000)]\n",
    "# Removing entries with invalid Vintage (usually time since policy, should be >0 and <500)\n",
    "df1 = df1[(df1['Vintage'] > 0) & (df1['Vintage'] < 500)]\n",
    "# Ensuring Region_Code is within a valid range\n",
    "valid_region_codes = df1['Region_Code'].value_counts().index  # or define a static list\n",
    "df1 = df1[df1['Region_Code'].isin(valid_region_codes)]\n",
    "# Removing entries with unknown Gender (if such exist)\n",
    "df1 = df1[df1['Gender'].isin(['Male', 'Female'])]\n",
    "# Removing entries where Driving_License has invalid values (only 0 or 1)\n",
    "df1 = df1[df1['Driving_License'].isin([0, 1])]\n",
    "# Removing entries where Previously_Insured has invalid values\n",
    "df1 = df1[df1['Previously_Insured'].isin([0, 1])]\n",
    "# Vehicle_Age: keep only expected values\n",
    "df1 = df1[df1['Vehicle_Age'].isin(['< 1 Year', '1-2 Year', '> 2 Years'])]\n",
    "# Vehicle_Damage: must be 'Yes' or 'No'\n",
    "df1 = df1[df1['Vehicle_Damage'].isin(['Yes', 'No'])]\n",
    "# Policy_Sales_Channel: optionally filter rare channels if needed\n",
    "valid_channels = df1['Policy_Sales_Channel'].value_counts()[df1['Policy_Sales_Channel'].value_counts() > 50].index\n",
    "df1 = df1[df1['Policy_Sales_Channel'].isin(valid_channels)]\n",
    "\n",
    "print(f\"Cleaned data shape: {df1.shape}\")"
   ]
  },
  {
   "cell_type": "code",
   "execution_count": null,
   "id": "f01846aa",
   "metadata": {},
   "outputs": [
    {
     "data": {
      "text/plain": [
       "id                      0\n",
       "Gender                  0\n",
       "Age                     0\n",
       "Driving_License         0\n",
       "Region_Code             0\n",
       "Previously_Insured      0\n",
       "Vehicle_Age             0\n",
       "Vehicle_Damage          0\n",
       "Annual_Premium          0\n",
       "Policy_Sales_Channel    0\n",
       "Vintage                 0\n",
       "dtype: int64"
      ]
     },
     "execution_count": 13,
     "metadata": {},
     "output_type": "execute_result"
    }
   ],
   "source": [
    "# df.nunique()\n",
    "df.isnull().sum()"
   ]
  },
  {
   "cell_type": "code",
   "execution_count": 14,
   "id": "45ec0c7d",
   "metadata": {},
   "outputs": [
    {
     "name": "stdout",
     "output_type": "stream",
     "text": [
      "<class 'pandas.core.frame.DataFrame'>\n",
      "Index: 122557 entries, 0 to 127036\n",
      "Data columns (total 11 columns):\n",
      " #   Column                Non-Null Count   Dtype \n",
      "---  ------                --------------   ----- \n",
      " 0   id                    122557 non-null  int64 \n",
      " 1   Gender                122557 non-null  object\n",
      " 2   Age                   122557 non-null  int64 \n",
      " 3   Driving_License       122557 non-null  int64 \n",
      " 4   Region_Code           122557 non-null  Int64 \n",
      " 5   Previously_Insured    122557 non-null  int64 \n",
      " 6   Vehicle_Age           122557 non-null  object\n",
      " 7   Vehicle_Damage        122557 non-null  object\n",
      " 8   Annual_Premium        122557 non-null  Int64 \n",
      " 9   Policy_Sales_Channel  122557 non-null  Int64 \n",
      " 10  Vintage               122557 non-null  int64 \n",
      "dtypes: Int64(3), int64(5), object(3)\n",
      "memory usage: 11.6+ MB\n"
     ]
    }
   ],
   "source": [
    "df1.info()"
   ]
  },
  {
   "cell_type": "code",
   "execution_count": 15,
   "id": "3f5f3566",
   "metadata": {},
   "outputs": [],
   "source": [
    "df.to_csv(\"../data/processed/cleaned_v1.csv\",index=False)\n",
    "df1.to_csv(\"../data/processed/test_v1.csv\",index=False)\n"
   ]
  },
  {
   "cell_type": "code",
   "execution_count": null,
   "id": "80277b4c",
   "metadata": {},
   "outputs": [],
   "source": [
    "# #Using profiling tool for analysis\n",
    "# profile_path = os.path.abspath(\"../reports/eda_report.html\")\n",
    "# profile = profile = ProfileReport(\n",
    "#     df,\n",
    "#     title=\"Insurance Fraud Detection - EDA Report\",\n",
    "#     explorative=True,\n",
    "#     correlations={\"pearson\": True, \"spearman\": True, \"kendall\": False},\n",
    "#     missing_diagrams={\"heatmap\": True, \"dendrogram\": False},\n",
    "#     interactions={\"continuous\": True},\n",
    "#     duplicate={\"head\": 10},\n",
    "#     sort=None\n",
    "# )\n",
    "# Path(os.path.dirname(profile_path)).mkdir(parents=True, exist_ok=True)\n",
    "\n",
    "# profile.to_file(profile_path)\n",
    "# print(\"Profiling Completed\")"
   ]
  }
 ],
 "metadata": {
  "kernelspec": {
   "display_name": "Python 3",
   "language": "python",
   "name": "python3"
  },
  "language_info": {
   "codemirror_mode": {
    "name": "ipython",
    "version": 3
   },
   "file_extension": ".py",
   "mimetype": "text/x-python",
   "name": "python",
   "nbconvert_exporter": "python",
   "pygments_lexer": "ipython3",
   "version": "3.12.10"
  }
 },
 "nbformat": 4,
 "nbformat_minor": 5
}
